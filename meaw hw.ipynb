{
 "cells": [
  {
   "cell_type": "markdown",
   "metadata": {},
   "source": [
    "Сначала нам надо скачать дату -- соберите как минимум 60 (30 положительных и 30 отрицательных) отзывов на похожие продукты (не надо мешать отзывы на отели с отзывами на ноутбуки) для составления \" тонального словаря\" (чем больше отзывов, тем лучше) и 10 отзывов для проверки качества. 2 балла в случае сбора путём парсинга, 1 - если найдете уже готовые данные или просто закопипастите без парсинга"
   ]
  },
  {
   "cell_type": "code",
   "execution_count": 165,
   "metadata": {},
   "outputs": [],
   "source": [
    "import requests\n",
    "import re\n",
    "from pymystem3 import Mystem\n",
    "m = Mystem()\n",
    "from bs4 import BeautifulSoup\n",
    "from sklearn.metrics import accuracy_score\n",
    "from fake_useragent import UserAgent\n",
    "ua = UserAgent(verify_ssl=False)"
   ]
  },
  {
   "cell_type": "code",
   "execution_count": 18,
   "metadata": {},
   "outputs": [],
   "source": [
    "session = requests.session()"
   ]
  },
  {
   "cell_type": "code",
   "execution_count": 53,
   "metadata": {},
   "outputs": [],
   "source": [
    "urls = ['https://petobzor.com/korm-dlya-koshek-royal-canin-otzyvy-i-razbor-sostava/',\n",
    "       'https://petobzor.com/korm-dlya-koshek-brit-premium-otzyvy-i-razbor-sostava/',\n",
    "       'https://petobzor.com/korm-dlya-koshek-carnilove-otzyvy-razbor-sostava/',\n",
    "        'https://petobzor.com/korm-dlya-koshek-purina-one-otzyvy-i-razbor-sostava/',\n",
    "       'https://petobzor.com/korm-dlya-koshek-friskies-otzyvy-i-razbor-sostava/']"
   ]
  },
  {
   "cell_type": "code",
   "execution_count": 61,
   "metadata": {},
   "outputs": [],
   "source": [
    "comments = []\n",
    "for url in urls:\n",
    "    req = session.get(url, headers={'User-Agent': ua.random})\n",
    "    page = req.text\n",
    "    soup = BeautifulSoup(page, 'html.parser')\n",
    "    for com in soup.find_all('li', {'class': 'review'}):\n",
    "        comments.append(com)"
   ]
  },
  {
   "cell_type": "code",
   "execution_count": 118,
   "metadata": {},
   "outputs": [],
   "source": [
    "good_comments = []\n",
    "bad_comments = []\n",
    "\n",
    "\n",
    "for com in comments:\n",
    "    rating = re.search(r'\\d,0 rating', str(com))\n",
    "    text = re.findall(r'<p>(.+)</p>', str(com))\n",
    "    if rating is not None:\n",
    "        if rating[0][0] == '5' or rating[0][0] == '4':\n",
    "            good_comments.append(text[0])\n",
    "        else:\n",
    "            bad_comments.append(text[0])"
   ]
  },
  {
   "cell_type": "code",
   "execution_count": 119,
   "metadata": {},
   "outputs": [
    {
     "name": "stdout",
     "output_type": "stream",
     "text": [
      "37\n",
      "43\n"
     ]
    }
   ],
   "source": [
    "print(len(good_comments))\n",
    "print(len(bad_comments))"
   ]
  },
  {
   "cell_type": "code",
   "execution_count": 125,
   "metadata": {},
   "outputs": [
    {
     "name": "stdout",
     "output_type": "stream",
     "text": [
      "Хороший: Моя кошка два года питается кормом Royal Canin Sterilised 37, выглядит прекрасно, жалоб на здоровье нет. Поэтому я доверяю информации производителя о хорошем качестве. Цену корма дорогой не считаю, если брать 2 кг упаковку выходит дешевле чем 5 упаковок по 400 г. </p> <p>У данного производителя самая большая линейка что я видела, даже специальных кормов для стерилизованных кошек есть несколько (для животных разного возраста). </p> <p>Ранее пробовала перейти на обычный корм Royal Canin, кошка набрала лишний вес, поэтому вернулась назад. Но теперь знаю, что этот корм действительно помогает контролировать вес кошки.\n",
      "\n",
      "Плохой: Купили кусочки в желе Royal Canin Kitten Instinctive. Корм премиум класса, это настраивало на позитивный результат. Реклама описывает его как разработанный с учетом всех потребностей животного, а состав разработан ветеринарными врачами. </p> <p>На практике все оказалось не так безоблачно. Котенок ел с удовольствием, я бы сказал с огромным удовольствием, но появились проблемы и лечили его от поноса. В общем, нам корм вообще не пошел.</p> <p>К стати, мы первого питомца кормили «человеческой пищей». После каждого посещения ветеринарной клиники узнавали о себе много интересного… Тем не менее котик прожил почти 17 лет и за эти годы только пару раз понос был.\n"
     ]
    }
   ],
   "source": [
    "print('Хороший:', good_comments[0])\n",
    "print('\\nПлохой:', bad_comments[0])"
   ]
  },
  {
   "cell_type": "markdown",
   "metadata": {},
   "source": [
    "Токенизируйте слова, приведите их к нижнему регистру и к начальной форме (1 балл за токенизацию, 1 - за начальную форму)"
   ]
  },
  {
   "cell_type": "code",
   "execution_count": 145,
   "metadata": {},
   "outputs": [],
   "source": [
    "good_tokens = []\n",
    "bad_tokens = []\n",
    "stop = [' ', '.', '!', ',', '(', ')', '\\n', 'p', '</', '>', '><', '=', ' — ', '. ', ', ', ') ', '> <', '/> <', '/><']\n",
    "\n",
    "for com in good_comments:\n",
    "    tokens = m.lemmatize(com.lower())\n",
    "    for token in tokens:\n",
    "        if token not in stop:\n",
    "            good_tokens.append(token)\n",
    "            \n",
    "for com in bad_comments:\n",
    "    tokens = m.lemmatize(com.lower())\n",
    "    for token in tokens:\n",
    "        if token not in stop:\n",
    "            bad_tokens.append(token)"
   ]
  },
  {
   "cell_type": "code",
   "execution_count": 144,
   "metadata": {},
   "outputs": [
    {
     "name": "stdout",
     "output_type": "stream",
     "text": [
      "4586 3697 [', ', 'выглядеть', 'прекрасно', ', ', 'жалоба', 'на', 'здоровье', 'нет', '. ', 'поэтому'] ['маркетинг', ', ', 'но', 'не', 'на', 'корм', '> <', 'hr', '/> <', 'time']\n"
     ]
    }
   ],
   "source": [
    "print(len(good_tokens), len(bad_tokens), good_tokens[10:20], bad_tokens[1110:1120])"
   ]
  },
  {
   "cell_type": "markdown",
   "metadata": {},
   "source": [
    "Составьте 2 множества - в одном будут слова, которые встречаются только в положительных отзывах, а в другом - встречающиеся только в отрицательных. Попробуйте поиграть с частотностями и исключить шум (к примеру, выбросить слова, встречающиеся 1-2 раза) (3 балла) (если у вас получились пустые множества, уберите фильтр по частотности или увеличьте выборку)"
   ]
  },
  {
   "cell_type": "code",
   "execution_count": 147,
   "metadata": {},
   "outputs": [],
   "source": [
    "raw_good_set = set(good_tokens)\n",
    "raw_bad_set = set(bad_tokens)"
   ]
  },
  {
   "cell_type": "code",
   "execution_count": 151,
   "metadata": {},
   "outputs": [],
   "source": [
    "good_set = raw_good_set.difference(raw_bad_set)\n",
    "bad_set = raw_bad_set.difference(raw_good_set)"
   ]
  },
  {
   "cell_type": "code",
   "execution_count": 159,
   "metadata": {},
   "outputs": [],
   "source": [
    "#убираем элементы, не являющиеся словами\n",
    "remove_list = []\n",
    "for elem in good_set:\n",
    "    if not re.match(r'[a-zа-я]+', elem):\n",
    "        remove_list.append(elem)\n",
    "        \n",
    "for elem in remove_list:\n",
    "    good_set.remove(elem)"
   ]
  },
  {
   "cell_type": "code",
   "execution_count": 160,
   "metadata": {},
   "outputs": [],
   "source": [
    "remove_list = []\n",
    "\n",
    "for elem in bad_set:\n",
    "    if not re.match(r'[a-zа-я]+', elem):\n",
    "        remove_list.append(elem)\n",
    "        \n",
    "for elem in remove_list:\n",
    "    bad_set.remove(elem)"
   ]
  },
  {
   "cell_type": "markdown",
   "metadata": {},
   "source": [
    "Создайте функцию, которая будет определять, положительный ли отзыв или отрицательный в зависимости от того, какие слова встретились в нём, и посчитайте качество при помощи accuracy (1 - за коректно работающую функцию, 1 - за подсчёт accuracy)"
   ]
  },
  {
   "cell_type": "code",
   "execution_count": 187,
   "metadata": {},
   "outputs": [],
   "source": [
    "def good_or_bad(text, good_set, bad_set):\n",
    "    bad_score = 0\n",
    "    good_score = 0\n",
    "    result = ''\n",
    "    tokens = m.lemmatize(text.lower())\n",
    "    for token in tokens:\n",
    "        if token in good_set:\n",
    "            good_score +=1\n",
    "        elif token in bad_set:\n",
    "            bad_score +=1\n",
    "    if bad_score > good_score:\n",
    "        result = 'bad'\n",
    "        print('Это отрицательный отзыв')\n",
    "    else:\n",
    "        result = 'good'\n",
    "        print('Это положительный отзыв')\n",
    "    return result"
   ]
  },
  {
   "cell_type": "code",
   "execution_count": 169,
   "metadata": {},
   "outputs": [
    {
     "name": "stdout",
     "output_type": "stream",
     "text": [
      "Это отрицательный отзыв\n"
     ]
    },
    {
     "data": {
      "text/plain": [
       "'bad'"
      ]
     },
     "execution_count": 169,
     "metadata": {},
     "output_type": "execute_result"
    }
   ],
   "source": [
    "text = 'Ужасный корм! Дала попробовать его мужу, а он отравился и умер!'\n",
    "good_or_bad(text, good_set, bad_set)"
   ]
  },
  {
   "cell_type": "code",
   "execution_count": 170,
   "metadata": {},
   "outputs": [
    {
     "name": "stdout",
     "output_type": "stream",
     "text": [
      "Это положительный отзыв\n"
     ]
    },
    {
     "data": {
      "text/plain": [
       "'good'"
      ]
     },
     "execution_count": 170,
     "metadata": {},
     "output_type": "execute_result"
    }
   ],
   "source": [
    "text = 'Отличный корм, всем театром Куклачёва едим только его и прекрасно себя чувствуем.'\n",
    "good_or_bad(text, good_set, bad_set)"
   ]
  },
  {
   "cell_type": "code",
   "execution_count": 177,
   "metadata": {},
   "outputs": [],
   "source": [
    "#Соберём новые отзывы для проверки accuracy\n",
    "\n",
    "check_url = 'https://petobzor.com/korm-dlya-koshek-mealfeel-otzyvy-razbor-sostava-tsena/'\n",
    "\n",
    "check_comments = []\n",
    "req = session.get(check_url, headers={'User-Agent': ua.random})\n",
    "page = req.text\n",
    "soup = BeautifulSoup(page, 'html.parser')\n",
    "for com in soup.find_all('li', {'class': 'review'}):\n",
    "    check_comments.append(com)\n",
    "    \n",
    "check_good_comments = []\n",
    "check_bad_comments = []\n",
    "\n",
    "\n",
    "for com in check_comments:\n",
    "    rating = re.search(r'\\d,0 rating', str(com))\n",
    "    text = re.findall(r'<p>(.+)</p>', str(com))\n",
    "    if rating is not None:\n",
    "        if rating[0][0] == '5' or rating[0][0] == '4':\n",
    "            check_good_comments.append(text[0])\n",
    "        else:\n",
    "            check_bad_comments.append(text[0])"
   ]
  },
  {
   "cell_type": "code",
   "execution_count": 185,
   "metadata": {},
   "outputs": [],
   "source": [
    "y_true = ['good'] * len(check_good_comments) + ['bad'] * len(check_bad_comments)"
   ]
  },
  {
   "cell_type": "code",
   "execution_count": 188,
   "metadata": {},
   "outputs": [
    {
     "name": "stdout",
     "output_type": "stream",
     "text": [
      "Это положительный отзыв\n",
      "Это положительный отзыв\n",
      "Это положительный отзыв\n",
      "Это положительный отзыв\n",
      "Это положительный отзыв\n",
      "Это положительный отзыв\n",
      "Это отрицательный отзыв\n",
      "Это отрицательный отзыв\n",
      "Это положительный отзыв\n",
      "Это положительный отзыв\n",
      "Это положительный отзыв\n",
      "Это положительный отзыв\n",
      "Это положительный отзыв\n"
     ]
    }
   ],
   "source": [
    "y_pred = []\n",
    "for com in check_good_comments:\n",
    "    y_pred.append(good_or_bad(com, good_set, bad_set))\n",
    "for com in check_bad_comments:\n",
    "    y_pred.append(good_or_bad(com, good_set, bad_set))"
   ]
  },
  {
   "cell_type": "code",
   "execution_count": 189,
   "metadata": {},
   "outputs": [
    {
     "data": {
      "text/plain": [
       "0.6153846153846154"
      ]
     },
     "execution_count": 189,
     "metadata": {},
     "output_type": "execute_result"
    }
   ],
   "source": [
    "accuracy_score(y_true, y_pred)"
   ]
  },
  {
   "cell_type": "markdown",
   "metadata": {},
   "source": [
    "Предложите как минимум 2 способа улучшить эту программу с помощью добавления к ней любых мулек - просто словами, писать улучшающий код не надо (1 балл)"
   ]
  },
  {
   "cell_type": "markdown",
   "metadata": {},
   "source": [
    "0. Обучить нейросеточку на материале положительных и отрицательных отзывов, чтобы она научилась их различать.\n",
    "1. Сравнивать не просто слова из + и - отзывов, а словосочетания (2-граммы, 3-граммы...)\n",
    "2. Векторизовать все + и - отзывы. Вычислить \"средний\" вектор по + и по - отзывам. Новые отзывы тоже превращать в вектор и смотреть, к какому среднему вектору он ближе.\n",
    "3. Собрать в пару тысяч раз больше отзывов."
   ]
  }
 ],
 "metadata": {
  "kernelspec": {
   "display_name": "Python 3.7 (tensorflow)",
   "language": "python",
   "name": "tensorflow"
  },
  "language_info": {
   "codemirror_mode": {
    "name": "ipython",
    "version": 3
   },
   "file_extension": ".py",
   "mimetype": "text/x-python",
   "name": "python",
   "nbconvert_exporter": "python",
   "pygments_lexer": "ipython3",
   "version": "3.7.7"
  }
 },
 "nbformat": 4,
 "nbformat_minor": 4
}
